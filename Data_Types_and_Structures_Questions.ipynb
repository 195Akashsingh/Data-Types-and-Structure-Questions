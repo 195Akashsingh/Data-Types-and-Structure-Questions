{
  "nbformat": 4,
  "nbformat_minor": 0,
  "metadata": {
    "colab": {
      "provenance": []
    },
    "kernelspec": {
      "name": "python3",
      "display_name": "Python 3"
    },
    "language_info": {
      "name": "python"
    }
  },
  "cells": [
    {
      "cell_type": "markdown",
      "source": [
        "Q1-DP What are data structures, and why are they important\n",
        "\n",
        "Ans-Data structures are simple ways to organize and store data so we can use it easily and efficiently. They help us find, add, change, or remove data quickly when needed.\n"
      ],
      "metadata": {
        "id": "MW6WVhi-VeXd"
      }
    },
    {
      "cell_type": "markdown",
      "source": [
        "Q2- Explain the difference between mutable and immutable data types with examples\n",
        "\n",
        "Ans- <u>Difference Between Mutable and Immutable Data Types  </u>\n",
        "\n",
        "<u>Mutable data types </u>\n",
        "\n",
        "You can change them after they are made. You can add, remove, or update things without making a new one.\n",
        "\n",
        "<u>Immutable data types </u>\n",
        "\n",
        "You cannot change them after they are made. If you want to change something, a new copy is created.\n"
      ],
      "metadata": {
        "id": "GUIX-2g9WvX_"
      }
    },
    {
      "cell_type": "markdown",
      "source": [
        "Q3-What are the main differences between lists and tuples in Python\n",
        "\n",
        "Ans- <u>differences between lists and tuples in Python</u>\n",
        "\n",
        "\n",
        "**Mutable**  \n",
        "- List: Yes  \n",
        "- Tuple: No\n",
        "\n",
        "**Syntax**  \n",
        "- List: [1, 2, 3]  \n",
        "- Tuple: (1, 2, 3)\n",
        "\n",
        "**Methods Available**  \n",
        "- List: Many  \n",
        "- Tuple: Few\n",
        "\n",
        "\n",
        "\n",
        "\n",
        "\n",
        "\n"
      ],
      "metadata": {
        "id": "xiw4BYayYhye"
      }
    },
    {
      "cell_type": "markdown",
      "source": [
        "Q4-Describe how dictionaries store data\n",
        "\n",
        "Ans-In Python, a dictionary is like a box that stores pairs of information.\n",
        "Each key is linked to a value — like a name and its phone number.\n",
        "\n",
        "student = {\n",
        "    \"name\": \"Akash\",\n",
        "    \"age\": 21\n",
        "}"
      ],
      "metadata": {
        "id": "eplM-N98eRXs"
      }
    },
    {
      "cell_type": "markdown",
      "source": [],
      "metadata": {
        "id": "y-XIT57SgU_1"
      }
    },
    {
      "cell_type": "markdown",
      "source": [
        "Q5-Why might you use a set instead of a list in Python\n",
        "\n",
        "Ans-Why Use a Set Instead of a List in Python\n",
        "\n",
        "A set is a special type of collection in Python that:\n",
        "\n",
        "• Doesn’t allow repeated items (no duplicates)  \n",
        "• Doesn’t keep items in order  \n",
        "• Is often faster when checking if something is inside\n"
      ],
      "metadata": {
        "id": "ICjhJ3v8gVAw"
      }
    },
    {
      "cell_type": "markdown",
      "source": [
        "Q6-What is a string in Python, and how is it different from a list\n",
        "\n",
        "Ans-A string is a piece of text made up of letters, numbers, or symbols, and it is written inside quotes.\n",
        "\n",
        "text = \"Hello\"\n",
        "\n",
        "You can write strings using single quotes like 'Hello' or double quotes like \"Hello\".\n",
        "\n",
        "Each letter in a string has a number that shows its place.\n",
        "\n",
        "For example:\n",
        "H is at position 0, e is at 1, and so on.\n",
        "\n",
        "\n"
      ],
      "metadata": {
        "id": "lcm8orDYhULM"
      }
    },
    {
      "cell_type": "markdown",
      "source": [
        "Q7-How do tuples ensure data integrity in Python\n",
        "\n",
        "Ans-Tuples keep data safe because you can’t change them after they are made.\n",
        "\n",
        "This means no one can add, remove, or change the values inside a tuple."
      ],
      "metadata": {
        "id": "4Jb7ac1OgxGW"
      }
    },
    {
      "cell_type": "markdown",
      "source": [
        "Q8-What is a hash table, and how does it relate to dictionaries in Python\n",
        "\n",
        "Ans-A hash table is a way to store data using key-value pairs.\n",
        "\n",
        "Think of it like a locker system:\n",
        "\n",
        "You give a key (like a name),\n",
        "\n",
        "It uses a special math rule (called a hash function) to choose a locker number,\n",
        "\n",
        "Then it puts your data in that locker or finds it when you need it.\n",
        "\n",
        "This makes it very fast to store and find things."
      ],
      "metadata": {
        "id": "oEuZm_PmgtP9"
      }
    },
    {
      "cell_type": "markdown",
      "source": [
        "Q9-Can lists contain different data types in Python\n",
        "\n",
        "Ans-Yes, in Python, a list can contain different data types.\n",
        "\n",
        "10 is an integer\n",
        "\n",
        "\"Hello\" is a string\n",
        "\n",
        "3.14 is a float\n",
        "\n",
        "True is a boolean"
      ],
      "metadata": {
        "id": "_abCH6ngkl6N"
      }
    },
    {
      "cell_type": "markdown",
      "source": [
        "Q10-Explain why strings are immutable in Python\n",
        "Ans-In Python, strings cannot be changed after they are made.\n",
        "\n",
        "If you want to change something in a string, you have to make a new string."
      ],
      "metadata": {
        "id": "x4aoXrYDlLos"
      }
    },
    {
      "cell_type": "markdown",
      "source": [
        "Q11-What advantages do dictionaries offer over lists for certain tasks\n",
        "Ans-Lists and dictionaries are both useful in Python, but dictionaries are better for some tasks.\n",
        "They make it easy to store and find data using names instead of numbers\n",
        "\n",
        "1.<u> Fast Lookups</u>\n",
        "\n",
        "Dictionary: Finds values quickly using a key\n",
        "\n",
        "List: Searches by position or checks each item one by one\n",
        "\n",
        " 2.<u> Key-Value Pairing</u>\n",
        "\n",
        "Dictionaries are great when you want to label your data.\n",
        "\n",
        "Lists don’t have labels — they just store values in order.\n",
        "\n",
        "3.<u>Better for Structured Data</u>\n",
        "\n",
        "Dictionaries are ideal for representing things like:\n",
        "\n",
        "JSON data\n",
        "\n",
        "Student records\n",
        "\n",
        "Config settings"
      ],
      "metadata": {
        "id": "QT-VPJ3TmmAE"
      }
    },
    {
      "cell_type": "markdown",
      "source": [
        "Q12-Describe a scenario where using a tuple would be preferable over a list\n",
        "\n",
        "Ans-A tuple is better when you want to keep your data safe and not let it change.\n",
        "\n",
        "The data is fixed\n",
        "\n",
        "You don’t want it to be changed by mistake\n",
        "\n",
        "You want to use it as a dictionary key or store it safely\n"
      ],
      "metadata": {
        "id": "Blgb9_SsoDwN"
      }
    },
    {
      "cell_type": "markdown",
      "source": [
        "Q13-How do sets handle duplicate values in Python\n",
        "\n",
        "Ans-A set never allows duplicates — if you add the same item again, it won’t be stored again."
      ],
      "metadata": {
        "id": "QEqg4QxZoAlF"
      }
    },
    {
      "cell_type": "markdown",
      "source": [
        "Q14-How does the “in” keyword work differently for lists and dictionaries\n",
        "\n",
        "Ans-The in keyword is used to check if something is there.\n",
        "\n",
        "But it works differently for lists and dictionaries:\n",
        "\n",
        "In a list, it checks if a value is in the list.\n",
        "\n",
        "In a dictionary, it checks if a key is in the dictionary."
      ],
      "metadata": {
        "id": "h_3zTrBdpiKU"
      }
    },
    {
      "cell_type": "markdown",
      "source": [
        "Q15-Can you modify the elements of a tuple? Explain why or why not\n",
        "\n",
        "Ans-No, you cannot modify the elements of a tuple.You cannot change a tuple because Python locks its values once it's made.\n",
        "If you need to change the data, use a list instead.\n",
        "\n"
      ],
      "metadata": {
        "id": "tvPZfjKrqFwl"
      }
    },
    {
      "cell_type": "markdown",
      "source": [
        "Q16-What is a nested dictionary, and give an example of its use case\n",
        "\n",
        "Ans-A nested dictionary lets you store dictionaries inside dictionaries — useful when you need to keep detailed data grouped and organized.\n",
        "\n",
        "students = {\n",
        "    \"student1\": {\"name\": \"Akash\", \"age\": 20, \"grade\": \"A\"},\n",
        "    \"student2\": {\"name\": \"Riya\", \"age\": 21, \"grade\": \"B\"}\n",
        "}\n"
      ],
      "metadata": {
        "id": "O3KdRI1Bqiv8"
      }
    },
    {
      "cell_type": "markdown",
      "source": [
        "Q17-Describe the time complexity of accessing elements in a dictionary\n",
        "\n",
        "Ans-Accessing a value in a dictionary is usually instant, no matter how big the dictionary is — that’s why dictionaries are great for quick lookups"
      ],
      "metadata": {
        "id": "YD04WBa0rRpJ"
      }
    },
    {
      "cell_type": "markdown",
      "source": [
        "Q18-In what situations are lists preferred over dictionaries\n",
        "\n",
        "Ans-Dictionaries are good for key-value data, but sometimes lists are better.\n",
        "Use a list when you just need to store items in order, don't need names for them, or want to keep duplicates.\n",
        "\n",
        "You only care about items, not names\n",
        "\n",
        "You want to keep things in order\n",
        "\n",
        "You need to use indexes\n",
        "\n",
        "You want to store duplicates\n",
        "\n",
        "\n"
      ],
      "metadata": {
        "id": "x9_VrpjkrsZt"
      }
    },
    {
      "cell_type": "markdown",
      "source": [
        "Q19-Why are dictionaries considered unordered, and how does that affect data retrieval\n",
        "\n",
        "Ans-Dictionaries are considered unordered because they are designed to find values using keys, not by order.\n",
        "Even if the order is kept (in newer Python), you should not depend on it when writing your code."
      ],
      "metadata": {
        "id": "6zfc8CgosTcW"
      }
    },
    {
      "cell_type": "markdown",
      "source": [
        "Q20-Explain the difference between a list and a dictionary in terms of data retrieval.\n",
        "\n",
        "Ans- <u>Difference Between a List and a Dictionary in Terms of Data Retrieval</u>\n",
        "\n",
        "**Speed of Retrieval**\n",
        "Dictionary: Very fast (average case O(1)) because it uses a hash table.\n",
        "\n",
        "List: Slower (O(n)) when searching for a value, unless you know the exact index.\n",
        "\n",
        "**Use Case**\n",
        "List: Best when you just need a group of values in order (like a shopping list).\n",
        "\n",
        "Dictionary: Best when each value has a unique label (like a student’s name, age, grade).\n"
      ],
      "metadata": {
        "id": "HKJ7q-GssyL0"
      }
    },
    {
      "cell_type": "markdown",
      "source": [
        "# *Practical Questions*"
      ],
      "metadata": {
        "id": "4DeIfY2iteF1"
      }
    },
    {
      "cell_type": "code",
      "source": [
        "#Q1-Write a code to create a string with your name and print it\n",
        "\n",
        "name = \"Akash Singh\"\n",
        "\n",
        "print(\"My name is:\", name)"
      ],
      "metadata": {
        "colab": {
          "base_uri": "https://localhost:8080/"
        },
        "id": "YJl8-NA3BXZM",
        "outputId": "596971fd-535e-4ed0-f0dc-e36ccd26ff2c"
      },
      "execution_count": null,
      "outputs": [
        {
          "output_type": "stream",
          "name": "stdout",
          "text": [
            "My name is: Akash Singh\n"
          ]
        }
      ]
    },
    {
      "cell_type": "code",
      "source": [
        "#Q2-Write a code to find the length of the string \"Hello World\"\n",
        "\n",
        "text = \"Hello World\"\n",
        "\n",
        "length = len(text)\n",
        "\n",
        "print(\"Length of the string is:\", length)\n",
        "\n"
      ],
      "metadata": {
        "colab": {
          "base_uri": "https://localhost:8080/"
        },
        "id": "MKfjWhVIB4Jk",
        "outputId": "77c2aa26-f95f-40c2-c4d0-80df916875af"
      },
      "execution_count": null,
      "outputs": [
        {
          "output_type": "stream",
          "name": "stdout",
          "text": [
            "Length of the string is: 11\n"
          ]
        }
      ]
    },
    {
      "cell_type": "code",
      "source": [
        "#Q3-+P Write a code to slice the first 3 characters from the string \"Python Programming\"\n",
        "\n",
        "\n",
        "text = \"Python Programming\"\n",
        "\n",
        "sliced_text = text[:3]\n",
        "\n",
        "print(\"First 3 characters:\", sliced_text)\n"
      ],
      "metadata": {
        "colab": {
          "base_uri": "https://localhost:8080/"
        },
        "id": "dcZVMo_xCa00",
        "outputId": "f07635f4-278f-4236-b37f-81197d763e7d"
      },
      "execution_count": null,
      "outputs": [
        {
          "output_type": "stream",
          "name": "stdout",
          "text": [
            "First 3 characters: Pyt\n"
          ]
        }
      ]
    },
    {
      "cell_type": "code",
      "source": [
        "#Q4-Write a code to convert the string \"hello\" to uppercase\n",
        "\n",
        "text = \"hello\"\n",
        "\n",
        "uppercase_text = text.upper()\n",
        "\n",
        "print(\"Uppercase:\", uppercase_text)\n"
      ],
      "metadata": {
        "colab": {
          "base_uri": "https://localhost:8080/"
        },
        "id": "p7HY2FOaCoo8",
        "outputId": "1dfd9834-47ba-49eb-f3d4-4483bd302a23"
      },
      "execution_count": null,
      "outputs": [
        {
          "output_type": "stream",
          "name": "stdout",
          "text": [
            "Uppercase: HELLO\n"
          ]
        }
      ]
    },
    {
      "cell_type": "code",
      "source": [
        "#Q5- Write a code to replace the word \"apple\" with \"orange\" in the string \"I like apple\"\n",
        "\n",
        "text = \"I like apple\"\n",
        "\n",
        "new_text = text.replace(\"apple\", \"orange\")\n",
        "\n",
        "print(\"Updated string:\", new_text)\n"
      ],
      "metadata": {
        "colab": {
          "base_uri": "https://localhost:8080/"
        },
        "id": "al96AHB2DCIC",
        "outputId": "22ebb887-6bf7-4467-b4ff-09eb996a43c6"
      },
      "execution_count": null,
      "outputs": [
        {
          "output_type": "stream",
          "name": "stdout",
          "text": [
            "Updated string: I like orange\n"
          ]
        }
      ]
    },
    {
      "cell_type": "code",
      "source": [
        "#Q6-Write a code to create a list with numbers 1 to 5 and print it\n",
        "\n",
        "\n",
        "numbers = [1, 2, 3, 4, 5]\n",
        "\n",
        "print(\"List of numbers:\", numbers)\n"
      ],
      "metadata": {
        "colab": {
          "base_uri": "https://localhost:8080/"
        },
        "id": "nRZV51J-Dc_L",
        "outputId": "c25ff9ab-0959-48c8-d37b-d33a215b61fb"
      },
      "execution_count": null,
      "outputs": [
        {
          "output_type": "stream",
          "name": "stdout",
          "text": [
            "List of numbers: [1, 2, 3, 4, 5]\n"
          ]
        }
      ]
    },
    {
      "cell_type": "code",
      "source": [
        "#Q7-Write a code to append the number 10 to the list [1, 2, 3, 4]\n",
        "\n",
        "\n",
        "numbers = [1, 2, 3, 4]\n",
        "\n",
        "numbers.append(10)\n",
        "\n",
        "print(\"Updated list:\", numbers)\n"
      ],
      "metadata": {
        "colab": {
          "base_uri": "https://localhost:8080/"
        },
        "id": "cg-BDK3ZDuW7",
        "outputId": "dfa0343f-6330-45a3-faf8-6e5842ab8f10"
      },
      "execution_count": null,
      "outputs": [
        {
          "output_type": "stream",
          "name": "stdout",
          "text": [
            "Updated list: [1, 2, 3, 4, 10]\n"
          ]
        }
      ]
    },
    {
      "cell_type": "code",
      "source": [
        "#Q8-Write a code to remove the number 3 from the list [1, 2, 3, 4, 5]\n",
        "\n",
        "my_list = [1, 2, 3, 4, 5]\n",
        "my_list.remove(3)\n",
        "print(my_list)\n"
      ],
      "metadata": {
        "colab": {
          "base_uri": "https://localhost:8080/"
        },
        "id": "AGjFbP1XD-ST",
        "outputId": "18cd9a98-d123-4c9a-84b0-230d8a31bddf"
      },
      "execution_count": null,
      "outputs": [
        {
          "output_type": "stream",
          "name": "stdout",
          "text": [
            "[1, 2, 4, 5]\n"
          ]
        }
      ]
    },
    {
      "cell_type": "code",
      "source": [
        "#Q9- Write a code to access the second element in the list ['a', 'b', 'c', 'd']\n",
        "\n",
        "my_list = ['a', 'b', 'c', 'd']\n",
        "second_element = my_list[1]\n",
        "print(second_element)\n"
      ],
      "metadata": {
        "colab": {
          "base_uri": "https://localhost:8080/"
        },
        "id": "0A3sJ6AzEheD",
        "outputId": "46f0b58e-d47c-493d-859d-390f5c454611"
      },
      "execution_count": null,
      "outputs": [
        {
          "output_type": "stream",
          "name": "stdout",
          "text": [
            "b\n"
          ]
        }
      ]
    },
    {
      "cell_type": "code",
      "source": [
        "#Q10-Write a code to reverse the list [10, 20, 30, 40, 50]\n",
        "\n",
        "my_list = [10, 20, 30, 40, 50]\n",
        "my_list.reverse()\n",
        "print(my_list)\n"
      ],
      "metadata": {
        "colab": {
          "base_uri": "https://localhost:8080/"
        },
        "id": "tOpq1p70Eyik",
        "outputId": "25826301-6ed1-45b6-b7e9-cf687e62fb26"
      },
      "execution_count": null,
      "outputs": [
        {
          "output_type": "stream",
          "name": "stdout",
          "text": [
            "[50, 40, 30, 20, 10]\n"
          ]
        }
      ]
    },
    {
      "cell_type": "code",
      "source": [
        "#Q11-Write a code to create a tuple with the elements 100, 200, 300 and print it.\n",
        "\n",
        "my_tuple = (100, 200, 300)\n",
        "print(my_tuple)\n"
      ],
      "metadata": {
        "colab": {
          "base_uri": "https://localhost:8080/"
        },
        "id": "9vYQeE7XE_zz",
        "outputId": "d65bbf81-13ca-460d-837a-227ae1f58551"
      },
      "execution_count": null,
      "outputs": [
        {
          "output_type": "stream",
          "name": "stdout",
          "text": [
            "(100, 200, 300)\n"
          ]
        }
      ]
    },
    {
      "cell_type": "code",
      "source": [
        "#Q12-Write a code to access the second-to-last element of the tuple ('red', 'green', 'blue', 'yellow').\n",
        "\n",
        "my_tuple = ('red', 'green', 'blue', 'yellow')\n",
        "second_to_last = my_tuple[-2]\n",
        "print(second_to_last)\n",
        "\n"
      ],
      "metadata": {
        "colab": {
          "base_uri": "https://localhost:8080/"
        },
        "id": "hJmxl9y_FqRr",
        "outputId": "baedad90-b021-47b1-a1cc-b0f8e29f0628"
      },
      "execution_count": null,
      "outputs": [
        {
          "output_type": "stream",
          "name": "stdout",
          "text": [
            "blue\n"
          ]
        }
      ]
    },
    {
      "cell_type": "code",
      "source": [
        "#Q13-Write a code to find the minimum number in the tuple (10, 20, 5, 15)\n",
        "\n",
        "my_tuple = (10, 20, 5, 15)\n",
        "minimum = min(my_tuple)\n",
        "print(minimum)\n"
      ],
      "metadata": {
        "colab": {
          "base_uri": "https://localhost:8080/"
        },
        "id": "Uv8svCXzGFWL",
        "outputId": "7eee4fac-511f-4771-86c6-b2872b317088"
      },
      "execution_count": null,
      "outputs": [
        {
          "output_type": "stream",
          "name": "stdout",
          "text": [
            "5\n"
          ]
        }
      ]
    },
    {
      "cell_type": "code",
      "source": [
        "#14- Write a code to find the index of the element \"cat\" in the tuple ('dog', 'cat', 'rabbit')\n",
        "\n",
        "my_tuple = ('dog', 'cat', 'rabbit')\n",
        "index_of_cat = my_tuple.index('cat')\n",
        "print(index_of_cat)\n"
      ],
      "metadata": {
        "colab": {
          "base_uri": "https://localhost:8080/"
        },
        "id": "7N04KXfsGOFs",
        "outputId": "148af980-536e-4fe0-f085-1f2e0b8a3a62"
      },
      "execution_count": null,
      "outputs": [
        {
          "output_type": "stream",
          "name": "stdout",
          "text": [
            "1\n"
          ]
        }
      ]
    },
    {
      "cell_type": "code",
      "source": [
        "#Q15-Write a code to create a tuple containing three different fruits and check if \"kiwi\" is in it.\n",
        "\n",
        "\n",
        "fruits = ('apple', 'mango', 'banana')\n",
        "\n",
        "if 'kiwi' in fruits:\n",
        "    print(\"Kiwi is in the tuple.\")\n",
        "else:\n",
        "    print(\"Kiwi is not in the tuple.\")\n",
        "\n",
        "\n"
      ],
      "metadata": {
        "colab": {
          "base_uri": "https://localhost:8080/"
        },
        "id": "nK0BzDY8GjWb",
        "outputId": "633464a6-ceb9-4619-d00b-663d320d1819"
      },
      "execution_count": null,
      "outputs": [
        {
          "output_type": "stream",
          "name": "stdout",
          "text": [
            "Kiwi is not in the tuple.\n"
          ]
        }
      ]
    },
    {
      "cell_type": "code",
      "source": [
        "#Q16-Write a code to create a set with the elements 'a', 'b', 'c' and print it\n",
        "\n",
        "my_set = {'a', 'b', 'c'}\n",
        "print(my_set)\n"
      ],
      "metadata": {
        "colab": {
          "base_uri": "https://localhost:8080/"
        },
        "id": "moCHn2n7IH5o",
        "outputId": "bca6c90e-c21b-495d-cba8-aa379e13719c"
      },
      "execution_count": null,
      "outputs": [
        {
          "output_type": "stream",
          "name": "stdout",
          "text": [
            "{'b', 'a', 'c'}\n"
          ]
        }
      ]
    },
    {
      "cell_type": "code",
      "source": [
        "#Q17-Write a code to clear all elements from the set {1, 2, 3, 4, 5}.\n",
        "\n",
        "my_set = {1, 2, 3, 4, 5}\n",
        "my_set.clear()\n",
        "print(my_set)\n"
      ],
      "metadata": {
        "colab": {
          "base_uri": "https://localhost:8080/"
        },
        "id": "wlJDbQ2qI4Tn",
        "outputId": "412712c2-5ef3-4f83-953c-05e05ffa4228"
      },
      "execution_count": null,
      "outputs": [
        {
          "output_type": "stream",
          "name": "stdout",
          "text": [
            "set()\n"
          ]
        }
      ]
    },
    {
      "cell_type": "code",
      "source": [
        "#Q18-Write a code to remove the element 4 from the set {1, 2, 3, 4}.\n",
        "\n",
        "my_set = {1, 2, 3, 4}\n",
        "my_set.remove(4)\n",
        "print(my_set)\n"
      ],
      "metadata": {
        "colab": {
          "base_uri": "https://localhost:8080/"
        },
        "id": "MRxGxci3JJ7f",
        "outputId": "24df8dee-d847-4c2b-9d29-35c3685f73db"
      },
      "execution_count": null,
      "outputs": [
        {
          "output_type": "stream",
          "name": "stdout",
          "text": [
            "{1, 2, 3}\n"
          ]
        }
      ]
    },
    {
      "cell_type": "code",
      "source": [
        "#Q19-Write a code to find the union of two sets {1, 2, 3} and {3, 4, 5}\n",
        "\n",
        "set1 = {1, 2, 3}\n",
        "set2 = {3, 4, 5}\n",
        "union_set = set1.union(set2)\n",
        "print(union_set)\n"
      ],
      "metadata": {
        "colab": {
          "base_uri": "https://localhost:8080/"
        },
        "id": "PhIyGSRNJT0_",
        "outputId": "15ff3ce4-a3f0-4a92-b685-2a45489c6b3d"
      },
      "execution_count": null,
      "outputs": [
        {
          "output_type": "stream",
          "name": "stdout",
          "text": [
            "{1, 2, 3, 4, 5}\n"
          ]
        }
      ]
    },
    {
      "cell_type": "code",
      "source": [
        "#Q20-Write a code to find the intersection of two sets {1, 2, 3} and {2, 3, 4}.\n",
        "\n",
        "set1 = {1, 2, 3}\n",
        "set2 = {2, 3, 4}\n",
        "intersection_set = set1.intersection(set2)\n",
        "print(intersection_set)\n"
      ],
      "metadata": {
        "colab": {
          "base_uri": "https://localhost:8080/"
        },
        "id": "NTUfdalaJiJw",
        "outputId": "cbb1b497-6665-4720-8973-1ccb1a3cc400"
      },
      "execution_count": null,
      "outputs": [
        {
          "output_type": "stream",
          "name": "stdout",
          "text": [
            "{2, 3}\n"
          ]
        }
      ]
    },
    {
      "cell_type": "code",
      "source": [
        "#Q21-Write a code to create a dictionary with the keys \"name\", \"age\", and \"city\", and print it\n",
        "\n",
        "person = {\n",
        "    \"name\": \"Alice\",\n",
        "    \"age\": 25,\n",
        "    \"city\": \"New York\"\n",
        "}\n",
        "\n",
        "print(person)\n"
      ],
      "metadata": {
        "colab": {
          "base_uri": "https://localhost:8080/"
        },
        "id": "WCztme6gJsm3",
        "outputId": "b76f92b1-2bff-4c85-e370-54d300e48dbc"
      },
      "execution_count": null,
      "outputs": [
        {
          "output_type": "stream",
          "name": "stdout",
          "text": [
            "{'name': 'Alice', 'age': 25, 'city': 'New York'}\n"
          ]
        }
      ]
    },
    {
      "cell_type": "code",
      "source": [
        "#Q22- Write a code to add a new key-value pair \"country\": \"USA\" to the dictionary {'name': 'John', 'age': 25}\n",
        "\n",
        "person = {'name': 'John', 'age': 25}\n",
        "person['country'] = 'USA'\n",
        "print(person)\n"
      ],
      "metadata": {
        "colab": {
          "base_uri": "https://localhost:8080/"
        },
        "id": "7mXLNhPQJ_mQ",
        "outputId": "2a283e82-65f0-49aa-be02-aa5e62e89dc5"
      },
      "execution_count": null,
      "outputs": [
        {
          "output_type": "stream",
          "name": "stdout",
          "text": [
            "{'name': 'John', 'age': 25, 'country': 'USA'}\n"
          ]
        }
      ]
    },
    {
      "cell_type": "code",
      "source": [
        "#Q23-Write a code to access the value associated with the key \"name\" in the dictionary {'name': 'Alice', 'age': 30}.\n",
        "\n",
        "\n",
        "person = {'name': 'Alice', 'age': 30}\n",
        "name_value = person['name']\n",
        "print(name_value)\n"
      ],
      "metadata": {
        "colab": {
          "base_uri": "https://localhost:8080/"
        },
        "id": "rUCrCZh0Kn8i",
        "outputId": "3040a869-bef5-4a3b-d95a-c9de0ce87df5"
      },
      "execution_count": null,
      "outputs": [
        {
          "output_type": "stream",
          "name": "stdout",
          "text": [
            "Alice\n"
          ]
        }
      ]
    },
    {
      "cell_type": "code",
      "source": [
        "#Q24-Write a code to remove the key \"age\" from the dictionary {'name': 'Bob', 'age': 22, 'city': 'New York'}\n",
        "\n",
        "person = {'name': 'Bob', 'age': 22, 'city': 'New York'}\n",
        "person.pop('age')\n",
        "print(person)\n"
      ],
      "metadata": {
        "colab": {
          "base_uri": "https://localhost:8080/"
        },
        "id": "M6OGNLg_K7bw",
        "outputId": "28c8fabd-e404-4dc7-b79e-e886f08b39d8"
      },
      "execution_count": null,
      "outputs": [
        {
          "output_type": "stream",
          "name": "stdout",
          "text": [
            "{'name': 'Bob', 'city': 'New York'}\n"
          ]
        }
      ]
    },
    {
      "cell_type": "code",
      "source": [
        "#Q25- Write a code to check if the key \"city\" exists in the dictionary {'name': 'Alice', 'city': 'Paris'}.\n",
        "\n",
        "person = {'name': 'Alice', 'city': 'Paris'}\n",
        "\n",
        "if 'city' in person:\n",
        "    print(\"Key 'city' exists in the dictionary.\")\n",
        "else:\n",
        "    print(\"Key 'city' does not exist in the dictionary.\")\n"
      ],
      "metadata": {
        "colab": {
          "base_uri": "https://localhost:8080/"
        },
        "id": "1XclMXNLLHn4",
        "outputId": "abb2707b-de88-4ca1-d4b5-b06df80c650e"
      },
      "execution_count": null,
      "outputs": [
        {
          "output_type": "stream",
          "name": "stdout",
          "text": [
            "Key 'city' exists in the dictionary.\n"
          ]
        }
      ]
    },
    {
      "cell_type": "code",
      "source": [
        "#Q26- Write a code to create a list, a tuple, and a dictionary, and print them all.\n",
        "\n",
        "person = {'name': 'Alice', 'city': 'Paris'}\n",
        "\n",
        "if 'city' in person:\n",
        "    print(\"Key 'city' exists in the dictionary.\")\n",
        "else:\n",
        "    print(\"Key 'city' does not exist in the dictionary.\")\n"
      ],
      "metadata": {
        "colab": {
          "base_uri": "https://localhost:8080/"
        },
        "id": "QSlDzj55LVkZ",
        "outputId": "a11e748a-4797-486c-f57a-f4cdad818e1e"
      },
      "execution_count": null,
      "outputs": [
        {
          "output_type": "stream",
          "name": "stdout",
          "text": [
            "Key 'city' exists in the dictionary.\n"
          ]
        }
      ]
    },
    {
      "cell_type": "code",
      "source": [
        "#Q27- Write a code to create a list of 5 random numbers between 1 and 100, sort it in ascending order, and print the\n",
        "#result.(replaced)\n",
        "\n",
        "import random\n",
        "\n",
        "\n",
        "random_numbers = random.sample(range(1, 101), 5)\n",
        "\n",
        "random_numbers.sort()\n",
        "\n",
        "print(random_numbers)\n"
      ],
      "metadata": {
        "colab": {
          "base_uri": "https://localhost:8080/"
        },
        "id": "y5m3hDt-Lmsp",
        "outputId": "2de5c03d-5f98-4686-bd65-17cab7db93ad"
      },
      "execution_count": null,
      "outputs": [
        {
          "output_type": "stream",
          "name": "stdout",
          "text": [
            "[21, 35, 56, 68, 82]\n"
          ]
        }
      ]
    },
    {
      "cell_type": "code",
      "source": [
        "#Q28-Write a code to create a list with strings and print the element at the third index\n",
        "\n",
        "my_list = ['apple', 'banana', 'cherry', 'date', 'fig']\n",
        "print(my_list[3])\n"
      ],
      "metadata": {
        "colab": {
          "base_uri": "https://localhost:8080/"
        },
        "id": "z_zrnd4-L1-I",
        "outputId": "8a3dc049-b7e5-4d94-a67f-54781990ba0b"
      },
      "execution_count": null,
      "outputs": [
        {
          "output_type": "stream",
          "name": "stdout",
          "text": [
            "date\n"
          ]
        }
      ]
    },
    {
      "cell_type": "code",
      "source": [
        "#Q29-Write a code to combine two dictionaries into one and print the result.\n",
        "\n",
        "dict1 = {'name': 'Alice', 'age': 25}\n",
        "dict2 = {'city': 'Paris', 'country': 'France'}\n",
        "\n",
        "\n",
        "combined_dict = {**dict1, **dict2}\n",
        "\n",
        "print(combined_dict)\n"
      ],
      "metadata": {
        "colab": {
          "base_uri": "https://localhost:8080/"
        },
        "id": "15FXorQbMEkZ",
        "outputId": "46c45ed7-b235-46e4-b906-dfb607c96c20"
      },
      "execution_count": null,
      "outputs": [
        {
          "output_type": "stream",
          "name": "stdout",
          "text": [
            "{'name': 'Alice', 'age': 25, 'city': 'Paris', 'country': 'France'}\n"
          ]
        }
      ]
    },
    {
      "cell_type": "code",
      "source": [
        "#Q30- Write a code to convert a list of strings into a set\n",
        "\n",
        "my_list = ['apple', 'banana', 'cherry', 'apple']\n",
        "my_set = set(my_list)\n",
        "print(my_set)\n"
      ],
      "metadata": {
        "colab": {
          "base_uri": "https://localhost:8080/"
        },
        "id": "cPz8HPVOMZHP",
        "outputId": "219afb3b-bec3-4797-fdef-897c7833a042"
      },
      "execution_count": null,
      "outputs": [
        {
          "output_type": "stream",
          "name": "stdout",
          "text": [
            "{'cherry', 'apple', 'banana'}\n"
          ]
        }
      ]
    }
  ]
}